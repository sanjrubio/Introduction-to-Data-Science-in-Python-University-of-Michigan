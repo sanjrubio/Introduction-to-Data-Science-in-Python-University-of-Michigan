{
 "cells": [
  {
   "cell_type": "markdown",
   "metadata": {},
   "source": [
    "---\n",
    "\n",
    "_You are currently looking at **version 1.2** of this notebook. To download notebooks and datafiles, as well as get help on Jupyter notebooks in the Coursera platform, visit the [Jupyter Notebook FAQ](https://www.coursera.org/learn/python-data-analysis/resources/0dhYG) course resource._\n",
    "\n",
    "---"
   ]
  },
  {
   "cell_type": "markdown",
   "metadata": {},
   "source": [
    "# Assignment 2 - Pandas Introduction\n",
    "All questions are weighted the same in this assignment.\n",
    "## Part 1\n",
    "The following code loads the olympics dataset (olympics.csv), which was derrived from the Wikipedia entry on [All Time Olympic Games Medals](https://en.wikipedia.org/wiki/All-time_Olympic_Games_medal_table), and does some basic data cleaning. \n",
    "\n",
    "The columns are organized as # of Summer games, Summer medals, # of Winter games, Winter medals, total # number of games, total # of medals. Use this dataset to answer the questions below."
   ]
  },
  {
   "cell_type": "code",
   "execution_count": 1,
   "metadata": {
    "nbgrader": {
     "grade": false,
     "grade_id": "1",
     "locked": false,
     "solution": false
    },
    "umich_question": "prolog-000"
   },
   "outputs": [
    {
     "name": "stdout",
     "output_type": "stream",
     "text": [
      "152                     #  Gold  Silver  Bronze  Total     #  Gold  Silver  \\\n",
      "Team (IOC code)                                                          \n",
      "Afghanistan      14.0   0.0     0.0     2.0    2.0   0.0   0.0     0.0   \n",
      "Algeria          13.0   5.0     4.0     8.0   17.0   3.0   0.0     0.0   \n",
      "Argentina        24.0  21.0    25.0    28.0   74.0  19.0   0.0     0.0   \n",
      "Armenia           6.0   2.0     6.0     6.0   14.0   7.0   0.0     0.0   \n",
      "Australasia       2.0   3.0     4.0     5.0   12.0   0.0   0.0     0.0   \n",
      "\n",
      "                 Bronze  Total     #  Gold  Silver  Bronze  Total   ID  \n",
      "Team (IOC code)                                                         \n",
      "Afghanistan         0.0    0.0  14.0   0.0     0.0     2.0    2.0  AFG  \n",
      "Algeria             0.0    0.0  16.0   5.0     4.0     8.0   17.0  ALG  \n",
      "Argentina           0.0    0.0  43.0  21.0    25.0    28.0   74.0  ARG  \n",
      "Armenia             0.0    0.0  13.0   2.0     6.0     6.0   14.0  ARM  \n",
      "Australasia         0.0    0.0   2.0   3.0     4.0     5.0   12.0  ANZ  \n"
     ]
    },
    {
     "data": {
      "text/html": [
       "<div>\n",
       "<style scoped>\n",
       "    .dataframe tbody tr th:only-of-type {\n",
       "        vertical-align: middle;\n",
       "    }\n",
       "\n",
       "    .dataframe tbody tr th {\n",
       "        vertical-align: top;\n",
       "    }\n",
       "\n",
       "    .dataframe thead th {\n",
       "        text-align: right;\n",
       "    }\n",
       "</style>\n",
       "<table border=\"1\" class=\"dataframe\">\n",
       "  <thead>\n",
       "    <tr style=\"text-align: right;\">\n",
       "      <th></th>\n",
       "      <th>#</th>\n",
       "      <th>Gold</th>\n",
       "      <th>Silver</th>\n",
       "      <th>Bronze</th>\n",
       "      <th>Total</th>\n",
       "      <th>#</th>\n",
       "      <th>Gold</th>\n",
       "      <th>Silver</th>\n",
       "      <th>Bronze</th>\n",
       "      <th>Total</th>\n",
       "      <th>#</th>\n",
       "      <th>Gold</th>\n",
       "      <th>Silver</th>\n",
       "      <th>Bronze</th>\n",
       "      <th>Total</th>\n",
       "      <th>ID</th>\n",
       "    </tr>\n",
       "    <tr>\n",
       "      <th>Team (IOC code)</th>\n",
       "      <th></th>\n",
       "      <th></th>\n",
       "      <th></th>\n",
       "      <th></th>\n",
       "      <th></th>\n",
       "      <th></th>\n",
       "      <th></th>\n",
       "      <th></th>\n",
       "      <th></th>\n",
       "      <th></th>\n",
       "      <th></th>\n",
       "      <th></th>\n",
       "      <th></th>\n",
       "      <th></th>\n",
       "      <th></th>\n",
       "      <th></th>\n",
       "    </tr>\n",
       "  </thead>\n",
       "  <tbody>\n",
       "    <tr>\n",
       "      <th>Zambia</th>\n",
       "      <td>13.0</td>\n",
       "      <td>0.0</td>\n",
       "      <td>1.0</td>\n",
       "      <td>1.0</td>\n",
       "      <td>2.0</td>\n",
       "      <td>0.0</td>\n",
       "      <td>0.0</td>\n",
       "      <td>0.0</td>\n",
       "      <td>0.0</td>\n",
       "      <td>0.0</td>\n",
       "      <td>13.0</td>\n",
       "      <td>0.0</td>\n",
       "      <td>1.0</td>\n",
       "      <td>1.0</td>\n",
       "      <td>2.0</td>\n",
       "      <td>ZAM</td>\n",
       "    </tr>\n",
       "    <tr>\n",
       "      <th>Zimbabwe</th>\n",
       "      <td>13.0</td>\n",
       "      <td>3.0</td>\n",
       "      <td>4.0</td>\n",
       "      <td>1.0</td>\n",
       "      <td>8.0</td>\n",
       "      <td>1.0</td>\n",
       "      <td>0.0</td>\n",
       "      <td>0.0</td>\n",
       "      <td>0.0</td>\n",
       "      <td>0.0</td>\n",
       "      <td>14.0</td>\n",
       "      <td>3.0</td>\n",
       "      <td>4.0</td>\n",
       "      <td>1.0</td>\n",
       "      <td>8.0</td>\n",
       "      <td>ZIM</td>\n",
       "    </tr>\n",
       "    <tr>\n",
       "      <th>Independent Olympic Athletes</th>\n",
       "      <td>3.0</td>\n",
       "      <td>1.0</td>\n",
       "      <td>0.0</td>\n",
       "      <td>1.0</td>\n",
       "      <td>2.0</td>\n",
       "      <td>0.0</td>\n",
       "      <td>0.0</td>\n",
       "      <td>0.0</td>\n",
       "      <td>0.0</td>\n",
       "      <td>0.0</td>\n",
       "      <td>3.0</td>\n",
       "      <td>1.0</td>\n",
       "      <td>0.0</td>\n",
       "      <td>1.0</td>\n",
       "      <td>2.0</td>\n",
       "      <td>IOA</td>\n",
       "    </tr>\n",
       "    <tr>\n",
       "      <th>Independent Olympic Participants</th>\n",
       "      <td>1.0</td>\n",
       "      <td>0.0</td>\n",
       "      <td>1.0</td>\n",
       "      <td>2.0</td>\n",
       "      <td>3.0</td>\n",
       "      <td>0.0</td>\n",
       "      <td>0.0</td>\n",
       "      <td>0.0</td>\n",
       "      <td>0.0</td>\n",
       "      <td>0.0</td>\n",
       "      <td>1.0</td>\n",
       "      <td>0.0</td>\n",
       "      <td>1.0</td>\n",
       "      <td>2.0</td>\n",
       "      <td>3.0</td>\n",
       "      <td>IOP</td>\n",
       "    </tr>\n",
       "    <tr>\n",
       "      <th>Mixed team</th>\n",
       "      <td>3.0</td>\n",
       "      <td>8.0</td>\n",
       "      <td>5.0</td>\n",
       "      <td>4.0</td>\n",
       "      <td>17.0</td>\n",
       "      <td>0.0</td>\n",
       "      <td>0.0</td>\n",
       "      <td>0.0</td>\n",
       "      <td>0.0</td>\n",
       "      <td>0.0</td>\n",
       "      <td>3.0</td>\n",
       "      <td>8.0</td>\n",
       "      <td>5.0</td>\n",
       "      <td>4.0</td>\n",
       "      <td>17.0</td>\n",
       "      <td>ZZX</td>\n",
       "    </tr>\n",
       "  </tbody>\n",
       "</table>\n",
       "</div>"
      ],
      "text/plain": [
       "                                     #  Gold  Silver  Bronze  Total    #  \\\n",
       "Team (IOC code)                                                            \n",
       "Zambia                            13.0   0.0     1.0     1.0    2.0  0.0   \n",
       "Zimbabwe                          13.0   3.0     4.0     1.0    8.0  1.0   \n",
       "Independent Olympic Athletes       3.0   1.0     0.0     1.0    2.0  0.0   \n",
       "Independent Olympic Participants   1.0   0.0     1.0     2.0    3.0  0.0   \n",
       "Mixed team                         3.0   8.0     5.0     4.0   17.0  0.0   \n",
       "\n",
       "                                  Gold  Silver  Bronze  Total     #  Gold  \\\n",
       "Team (IOC code)                                                             \n",
       "Zambia                             0.0     0.0     0.0    0.0  13.0   0.0   \n",
       "Zimbabwe                           0.0     0.0     0.0    0.0  14.0   3.0   \n",
       "Independent Olympic Athletes       0.0     0.0     0.0    0.0   3.0   1.0   \n",
       "Independent Olympic Participants   0.0     0.0     0.0    0.0   1.0   0.0   \n",
       "Mixed team                         0.0     0.0     0.0    0.0   3.0   8.0   \n",
       "\n",
       "                                  Silver  Bronze  Total   ID  \n",
       "Team (IOC code)                                               \n",
       "Zambia                               1.0     1.0    2.0  ZAM  \n",
       "Zimbabwe                             4.0     1.0    8.0  ZIM  \n",
       "Independent Olympic Athletes         0.0     1.0    2.0  IOA  \n",
       "Independent Olympic Participants     1.0     2.0    3.0  IOP  \n",
       "Mixed team                           5.0     4.0   17.0  ZZX  "
      ]
     },
     "execution_count": 1,
     "metadata": {},
     "output_type": "execute_result"
    }
   ],
   "source": [
    "import pandas as pd\n",
    "\n",
    "df = pd.read_csv('olympics.csv', index_col=0)\n",
    "\n",
    "for col in df.columns:\n",
    "    if col[-2:]=='.1':\n",
    "        df.rename(columns={col:'Gold'}, inplace=True)\n",
    "    if col[-2:]=='.2':\n",
    "        df.rename(columns={col:'Silver'}, inplace=True)\n",
    "    if col[-2:]=='.3':\n",
    "        df.rename(columns={col:'Bronze'}, inplace=True)\n",
    "    if col[-2:]=='.4':\n",
    "        df.rename(columns={col:'Total'}, inplace=True)\n",
    "    if (col[-5:]=='Games' or col[:8]=='Combined'):\n",
    "        df.rename(columns={col:'#'}, inplace=True)\n",
    "\n",
    "names_ids = df.index.str.split('\\s\\(') # split the index by '('\n",
    "\n",
    "df.index = names_ids.str[0] # the [0] element is the country name (new index) \n",
    "df['ID'] = names_ids.str[1].str[:3] # the [1] element is the abbreviation or ID (take first 3 characters from that)\n",
    "\n",
    "df = df.drop('Totals')\n",
    "print (len(df),df.head())\n",
    "df.tail()\n",
    "\n"
   ]
  },
  {
   "cell_type": "markdown",
   "metadata": {},
   "source": [
    "### Question 0 (Example)\n",
    "\n",
    "What is the first country in df?\n",
    "\n",
    "*This function should return a Series.*"
   ]
  },
  {
   "cell_type": "code",
   "execution_count": 2,
   "metadata": {
    "umich_question": "000"
   },
   "outputs": [
    {
     "data": {
      "text/plain": [
       "#          14\n",
       "Gold        0\n",
       "Silver      0\n",
       "Bronze      2\n",
       "Total       2\n",
       "#           0\n",
       "Gold        0\n",
       "Silver      0\n",
       "Bronze      0\n",
       "Total       0\n",
       "#          14\n",
       "Gold        0\n",
       "Silver      0\n",
       "Bronze      2\n",
       "Total       2\n",
       "ID        AFG\n",
       "Name: Afghanistan, dtype: object"
      ]
     },
     "execution_count": 2,
     "metadata": {},
     "output_type": "execute_result"
    }
   ],
   "source": [
    "# You should write your whole answer within the function provided. The autograder will call\n",
    "# this function and compare the return value against the correct solution value\n",
    "def answer_zero():\n",
    "    # This function returns the row for Afghanistan, which is a Series object. The assignment\n",
    "    # question description will tell you the general format the autograder is expecting\n",
    "    return df.iloc[0]\n",
    "\n",
    "# You can examine what your function returns by calling it in the cell. If you have questions\n",
    "# about the assignment formats, check out the discussion forums for any FAQs\n",
    "answer_zero() "
   ]
  },
  {
   "cell_type": "markdown",
   "metadata": {},
   "source": [
    "### Question 1\n",
    "Which country has won the most gold medals in summer games?\n",
    "\n",
    "*This function should return a single string value.*"
   ]
  },
  {
   "cell_type": "code",
   "execution_count": 3,
   "metadata": {
    "nbgrader": {
     "grade": false,
     "locked": false,
     "solution": false
    },
    "umich_part_id": "001",
    "umich_partlist_id": "001"
   },
   "outputs": [
    {
     "data": {
      "text/plain": [
       "'United States'"
      ]
     },
     "execution_count": 3,
     "metadata": {},
     "output_type": "execute_result"
    }
   ],
   "source": [
    "def answer_one(df):\n",
    "    \n",
    "    return df.iloc[:, 1].idxmax()\n",
    "\n",
    "answer_one(df)"
   ]
  },
  {
   "cell_type": "markdown",
   "metadata": {},
   "source": [
    "### Question 2\n",
    "Which country had the biggest difference between their summer and winter gold medal counts?\n",
    "\n",
    "*This function should return a single string value.*"
   ]
  },
  {
   "cell_type": "code",
   "execution_count": 4,
   "metadata": {
    "umich_part_id": "002",
    "umich_partlist_id": "001"
   },
   "outputs": [
    {
     "data": {
      "text/plain": [
       "'United States'"
      ]
     },
     "execution_count": 4,
     "metadata": {},
     "output_type": "execute_result"
    }
   ],
   "source": [
    "def answer_two(a):\n",
    "    d = 0\n",
    "    for i in range (0, len(df)-1):\n",
    "        f = a.iloc[i][1] - a.iloc[i][6]\n",
    "        if f > d:\n",
    "            d = f\n",
    "            y = i\n",
    "            \n",
    "    return a.index[y]\n",
    "\n",
    "answer_two(df)\n"
   ]
  },
  {
   "cell_type": "markdown",
   "metadata": {},
   "source": [
    "### Question 3\n",
    "Which country has the biggest difference between their summer gold medal counts and winter gold medal counts relative to their total gold medal count? \n",
    "\n",
    "$$\\frac{Summer~Gold - Winter~Gold}{Total~Gold}$$\n",
    "\n",
    "Only include countries that have won at least 1 gold in both summer and winter.\n",
    "\n",
    "*This function should return a single string value.*"
   ]
  },
  {
   "cell_type": "code",
   "execution_count": 5,
   "metadata": {
    "umich_part_id": "003",
    "umich_partlist_id": "001"
   },
   "outputs": [
    {
     "data": {
      "text/plain": [
       "'Algeria'"
      ]
     },
     "execution_count": 5,
     "metadata": {},
     "output_type": "execute_result"
    }
   ],
   "source": [
    "def answer_three(a):        \n",
    "    d = 0\n",
    "    for i in range (0, len(df)-1):\n",
    "        if a.iloc[i][11] != 0:\n",
    "            f = ((a.iloc[i][1] - a.iloc[i][6]) / a.iloc[i][11])\n",
    "            if f > d:\n",
    "                d = f\n",
    "                y = i           \n",
    "                \n",
    "    return a.index[y]\n",
    "\n",
    "answer_three(df)"
   ]
  },
  {
   "cell_type": "markdown",
   "metadata": {},
   "source": [
    "### Question 4\n",
    "Write a function that creates a Series called \"Points\" which is a weighted value where each gold medal (`Gold.2`) counts for 3 points, silver medals (`Silver.2`) for 2 points, and bronze medals (`Bronze.2`) for 1 point. The function should return only the column (a Series object) which you created, with the country names as indices.\n",
    "\n",
    "*This function should return a Series named `Points` of length 146*"
   ]
  },
  {
   "cell_type": "code",
   "execution_count": 6,
   "metadata": {
    "umich_part_id": "004",
    "umich_partlist_id": "001"
   },
   "outputs": [
    {
     "data": {
      "text/plain": [
       "Afghanistan                           2.0\n",
       "Algeria                              31.0\n",
       "Argentina                           141.0\n",
       "Armenia                              24.0\n",
       "Australasia                          22.0\n",
       "                                    ...  \n",
       "Yugoslavia                          184.0\n",
       "Zambia                                3.0\n",
       "Zimbabwe                             18.0\n",
       "Independent Olympic Athletes          4.0\n",
       "Independent Olympic Participants      4.0\n",
       "Length: 150, dtype: float64"
      ]
     },
     "execution_count": 6,
     "metadata": {},
     "output_type": "execute_result"
    }
   ],
   "source": [
    "def answer_four(a):\n",
    "    Points = pd.Series(index = a.index, dtype = \"float64\") \n",
    "    for i in range (0, len(a)-1):\n",
    "        Points [i] = a.iloc[i][11]*3 + a.iloc[i][12]*2 + a.iloc[i][13]  \n",
    "    Points.dropna(inplace=True)\n",
    "    Points.index.name = None\n",
    "    \n",
    "    return Points\n",
    "\n",
    "answer_four(df)"
   ]
  },
  {
   "cell_type": "markdown",
   "metadata": {},
   "source": [
    "## Part 2\n",
    "For the next set of questions, we will be using census data from the [United States Census Bureau](http://www.census.gov). Counties are political and geographic subdivisions of states in the United States. This dataset contains population data for counties and states in the US from 2010 to 2015. [See this document](https://www2.census.gov/programs-surveys/popest/technical-documentation/file-layouts/2010-2015/co-est2015-alldata.pdf) for a description of the variable names.\n",
    "\n",
    "The census dataset (census.csv) should be loaded as census_df. Answer questions using this as appropriate.\n",
    "\n",
    "### Question 5\n",
    "Which state has the most counties in it? (hint: consider the sumlevel key carefully! You'll need this for future questions too...)\n",
    "\n",
    "*This function should return a single string value.*"
   ]
  },
  {
   "cell_type": "code",
   "execution_count": 7,
   "metadata": {
    "umich_question": "prolog-005"
   },
   "outputs": [
    {
     "data": {
      "text/html": [
       "<div>\n",
       "<style scoped>\n",
       "    .dataframe tbody tr th:only-of-type {\n",
       "        vertical-align: middle;\n",
       "    }\n",
       "\n",
       "    .dataframe tbody tr th {\n",
       "        vertical-align: top;\n",
       "    }\n",
       "\n",
       "    .dataframe thead th {\n",
       "        text-align: right;\n",
       "    }\n",
       "</style>\n",
       "<table border=\"1\" class=\"dataframe\">\n",
       "  <thead>\n",
       "    <tr style=\"text-align: right;\">\n",
       "      <th></th>\n",
       "      <th>SUMLEV</th>\n",
       "      <th>REGION</th>\n",
       "      <th>DIVISION</th>\n",
       "      <th>STATE</th>\n",
       "      <th>COUNTY</th>\n",
       "      <th>CTYNAME</th>\n",
       "      <th>CENSUS2010POP</th>\n",
       "      <th>ESTIMATESBASE2010</th>\n",
       "      <th>POPESTIMATE2010</th>\n",
       "      <th>POPESTIMATE2011</th>\n",
       "      <th>...</th>\n",
       "      <th>RDOMESTICMIG2011</th>\n",
       "      <th>RDOMESTICMIG2012</th>\n",
       "      <th>RDOMESTICMIG2013</th>\n",
       "      <th>RDOMESTICMIG2014</th>\n",
       "      <th>RDOMESTICMIG2015</th>\n",
       "      <th>RNETMIG2011</th>\n",
       "      <th>RNETMIG2012</th>\n",
       "      <th>RNETMIG2013</th>\n",
       "      <th>RNETMIG2014</th>\n",
       "      <th>RNETMIG2015</th>\n",
       "    </tr>\n",
       "    <tr>\n",
       "      <th>STNAME</th>\n",
       "      <th></th>\n",
       "      <th></th>\n",
       "      <th></th>\n",
       "      <th></th>\n",
       "      <th></th>\n",
       "      <th></th>\n",
       "      <th></th>\n",
       "      <th></th>\n",
       "      <th></th>\n",
       "      <th></th>\n",
       "      <th></th>\n",
       "      <th></th>\n",
       "      <th></th>\n",
       "      <th></th>\n",
       "      <th></th>\n",
       "      <th></th>\n",
       "      <th></th>\n",
       "      <th></th>\n",
       "      <th></th>\n",
       "      <th></th>\n",
       "      <th></th>\n",
       "    </tr>\n",
       "  </thead>\n",
       "  <tbody>\n",
       "    <tr>\n",
       "      <th>Alabama</th>\n",
       "      <td>40</td>\n",
       "      <td>3</td>\n",
       "      <td>6</td>\n",
       "      <td>1</td>\n",
       "      <td>0</td>\n",
       "      <td>Alabama</td>\n",
       "      <td>4779736</td>\n",
       "      <td>4780127</td>\n",
       "      <td>4785161</td>\n",
       "      <td>4801108</td>\n",
       "      <td>...</td>\n",
       "      <td>0.002295</td>\n",
       "      <td>-0.193196</td>\n",
       "      <td>0.381066</td>\n",
       "      <td>0.582002</td>\n",
       "      <td>-0.467369</td>\n",
       "      <td>1.030015</td>\n",
       "      <td>0.826644</td>\n",
       "      <td>1.383282</td>\n",
       "      <td>1.724718</td>\n",
       "      <td>0.712594</td>\n",
       "    </tr>\n",
       "    <tr>\n",
       "      <th>Alabama</th>\n",
       "      <td>50</td>\n",
       "      <td>3</td>\n",
       "      <td>6</td>\n",
       "      <td>1</td>\n",
       "      <td>1</td>\n",
       "      <td>Autauga County</td>\n",
       "      <td>54571</td>\n",
       "      <td>54571</td>\n",
       "      <td>54660</td>\n",
       "      <td>55253</td>\n",
       "      <td>...</td>\n",
       "      <td>7.242091</td>\n",
       "      <td>-2.915927</td>\n",
       "      <td>-3.012349</td>\n",
       "      <td>2.265971</td>\n",
       "      <td>-2.530799</td>\n",
       "      <td>7.606016</td>\n",
       "      <td>-2.626146</td>\n",
       "      <td>-2.722002</td>\n",
       "      <td>2.592270</td>\n",
       "      <td>-2.187333</td>\n",
       "    </tr>\n",
       "    <tr>\n",
       "      <th>Alabama</th>\n",
       "      <td>50</td>\n",
       "      <td>3</td>\n",
       "      <td>6</td>\n",
       "      <td>1</td>\n",
       "      <td>3</td>\n",
       "      <td>Baldwin County</td>\n",
       "      <td>182265</td>\n",
       "      <td>182265</td>\n",
       "      <td>183193</td>\n",
       "      <td>186659</td>\n",
       "      <td>...</td>\n",
       "      <td>14.832960</td>\n",
       "      <td>17.647293</td>\n",
       "      <td>21.845705</td>\n",
       "      <td>19.243287</td>\n",
       "      <td>17.197872</td>\n",
       "      <td>15.844176</td>\n",
       "      <td>18.559627</td>\n",
       "      <td>22.727626</td>\n",
       "      <td>20.317142</td>\n",
       "      <td>18.293499</td>\n",
       "    </tr>\n",
       "    <tr>\n",
       "      <th>Alabama</th>\n",
       "      <td>50</td>\n",
       "      <td>3</td>\n",
       "      <td>6</td>\n",
       "      <td>1</td>\n",
       "      <td>5</td>\n",
       "      <td>Barbour County</td>\n",
       "      <td>27457</td>\n",
       "      <td>27457</td>\n",
       "      <td>27341</td>\n",
       "      <td>27226</td>\n",
       "      <td>...</td>\n",
       "      <td>-4.728132</td>\n",
       "      <td>-2.500690</td>\n",
       "      <td>-7.056824</td>\n",
       "      <td>-3.904217</td>\n",
       "      <td>-10.543299</td>\n",
       "      <td>-4.874741</td>\n",
       "      <td>-2.758113</td>\n",
       "      <td>-7.167664</td>\n",
       "      <td>-3.978583</td>\n",
       "      <td>-10.543299</td>\n",
       "    </tr>\n",
       "    <tr>\n",
       "      <th>Alabama</th>\n",
       "      <td>50</td>\n",
       "      <td>3</td>\n",
       "      <td>6</td>\n",
       "      <td>1</td>\n",
       "      <td>7</td>\n",
       "      <td>Bibb County</td>\n",
       "      <td>22915</td>\n",
       "      <td>22919</td>\n",
       "      <td>22861</td>\n",
       "      <td>22733</td>\n",
       "      <td>...</td>\n",
       "      <td>-5.527043</td>\n",
       "      <td>-5.068871</td>\n",
       "      <td>-6.201001</td>\n",
       "      <td>-0.177537</td>\n",
       "      <td>0.177258</td>\n",
       "      <td>-5.088389</td>\n",
       "      <td>-4.363636</td>\n",
       "      <td>-5.403729</td>\n",
       "      <td>0.754533</td>\n",
       "      <td>1.107861</td>\n",
       "    </tr>\n",
       "  </tbody>\n",
       "</table>\n",
       "<p>5 rows × 99 columns</p>\n",
       "</div>"
      ],
      "text/plain": [
       "         SUMLEV  REGION  DIVISION  STATE  COUNTY         CTYNAME  \\\n",
       "STNAME                                                             \n",
       "Alabama      40       3         6      1       0         Alabama   \n",
       "Alabama      50       3         6      1       1  Autauga County   \n",
       "Alabama      50       3         6      1       3  Baldwin County   \n",
       "Alabama      50       3         6      1       5  Barbour County   \n",
       "Alabama      50       3         6      1       7     Bibb County   \n",
       "\n",
       "         CENSUS2010POP  ESTIMATESBASE2010  POPESTIMATE2010  POPESTIMATE2011  \\\n",
       "STNAME                                                                        \n",
       "Alabama        4779736            4780127          4785161          4801108   \n",
       "Alabama          54571              54571            54660            55253   \n",
       "Alabama         182265             182265           183193           186659   \n",
       "Alabama          27457              27457            27341            27226   \n",
       "Alabama          22915              22919            22861            22733   \n",
       "\n",
       "         ...  RDOMESTICMIG2011  RDOMESTICMIG2012  RDOMESTICMIG2013  \\\n",
       "STNAME   ...                                                         \n",
       "Alabama  ...          0.002295         -0.193196          0.381066   \n",
       "Alabama  ...          7.242091         -2.915927         -3.012349   \n",
       "Alabama  ...         14.832960         17.647293         21.845705   \n",
       "Alabama  ...         -4.728132         -2.500690         -7.056824   \n",
       "Alabama  ...         -5.527043         -5.068871         -6.201001   \n",
       "\n",
       "         RDOMESTICMIG2014  RDOMESTICMIG2015  RNETMIG2011  RNETMIG2012  \\\n",
       "STNAME                                                                  \n",
       "Alabama          0.582002         -0.467369     1.030015     0.826644   \n",
       "Alabama          2.265971         -2.530799     7.606016    -2.626146   \n",
       "Alabama         19.243287         17.197872    15.844176    18.559627   \n",
       "Alabama         -3.904217        -10.543299    -4.874741    -2.758113   \n",
       "Alabama         -0.177537          0.177258    -5.088389    -4.363636   \n",
       "\n",
       "         RNETMIG2013  RNETMIG2014  RNETMIG2015  \n",
       "STNAME                                          \n",
       "Alabama     1.383282     1.724718     0.712594  \n",
       "Alabama    -2.722002     2.592270    -2.187333  \n",
       "Alabama    22.727626    20.317142    18.293499  \n",
       "Alabama    -7.167664    -3.978583   -10.543299  \n",
       "Alabama    -5.403729     0.754533     1.107861  \n",
       "\n",
       "[5 rows x 99 columns]"
      ]
     },
     "execution_count": 7,
     "metadata": {},
     "output_type": "execute_result"
    }
   ],
   "source": [
    "census_df = pd.read_csv('census.csv', delimiter = \",\", engine='python')\n",
    "census_df.set_index([\"STNAME\"], inplace = True)\n",
    "census_df.head()"
   ]
  },
  {
   "cell_type": "code",
   "execution_count": 8,
   "metadata": {
    "umich_part_id": "005",
    "umich_partlist_id": "002"
   },
   "outputs": [
    {
     "data": {
      "text/plain": [
       "'Texas'"
      ]
     },
     "execution_count": 8,
     "metadata": {},
     "output_type": "execute_result"
    }
   ],
   "source": [
    "def answer_five(a):\n",
    "    states = pd.Series(index = a.index.unique(), dtype = int)\n",
    "    z = 0 \n",
    "    for i in range (len(states)):\n",
    "        while z < len(a):\n",
    "            if states.index[i] == a.index[z]:\n",
    "                states[i] += 1\n",
    "                z+=1\n",
    "            else:\n",
    "                break\n",
    "    return states.idxmax()\n",
    "\n",
    "answer_five(census_df)\n"
   ]
  },
  {
   "cell_type": "markdown",
   "metadata": {},
   "source": [
    "### Question 6\n",
    "**Only looking at the three most populous counties for each state**, what are the three most populous states (in order of highest population to lowest population)? Use `CENSUS2010POP`.\n",
    "\n",
    "*This function should return a list of string values.*"
   ]
  },
  {
   "cell_type": "code",
   "execution_count": 9,
   "metadata": {
    "umich_part_id": "006",
    "umich_partlist_id": "002"
   },
   "outputs": [
    {
     "data": {
      "text/plain": [
       "STNAME\n",
       "California    50167874\n",
       "Texas         31606159\n",
       "New York      24113524\n",
       "dtype: int32"
      ]
     },
     "execution_count": 9,
     "metadata": {},
     "output_type": "execute_result"
    }
   ],
   "source": [
    "def answer_six(a):\n",
    "    states = pd.Series(index = a.index.unique(), dtype = int)\n",
    "    z = 0\n",
    "    za = 0\n",
    "    b = pd.DataFrame (index = a.index.unique())\n",
    "    for i in range (len(states)):\n",
    "        while z < len(a):\n",
    "            if states.index[i] == a.index[z]:\n",
    "                z+=1\n",
    "            else:\n",
    "                break \n",
    "        b = a[za:z]\n",
    "        za = z\n",
    "        states [i] = (b.nlargest (3, \"CENSUS2010POP\"))[\"CENSUS2010POP\"].sum()     \n",
    "    return states.nlargest (3, keep = \"all\")\n",
    "\n",
    "answer_six(census_df)"
   ]
  },
  {
   "cell_type": "markdown",
   "metadata": {},
   "source": [
    "### Question 7\n",
    "Which county has had the largest absolute change in population within the period 2010-2015? (Hint: population values are stored in columns POPESTIMATE2010 through POPESTIMATE2015, you need to consider all six columns.)\n",
    "\n",
    "e.g. If County Population in the 5 year period is 100, 120, 80, 105, 100, 130, then its largest change in the period would be |130-80| = 50.\n",
    "\n",
    "*This function should return a single string value.*"
   ]
  },
  {
   "cell_type": "code",
   "execution_count": 10,
   "metadata": {
    "scrolled": true,
    "umich_part_id": "007",
    "umich_partlist_id": "002"
   },
   "outputs": [
    {
     "data": {
      "text/plain": [
       "'Lassen County'"
      ]
     },
     "execution_count": 10,
     "metadata": {},
     "output_type": "execute_result"
    }
   ],
   "source": [
    "def answer_seven(a):\n",
    "    p7 = a.reset_index(drop = True)\n",
    "    p7.set_index(\"CTYNAME\", inplace = True)\n",
    "    p7 = p7[[\"SUMLEV\",\"REGION\",\"COUNTY\", 'POPESTIMATE2010',\n",
    "       'POPESTIMATE2011', 'POPESTIMATE2012', 'POPESTIMATE2013',\n",
    "       'POPESTIMATE2014', 'POPESTIMATE2015']]\n",
    "    counties = pd.Series(index = p7.index.unique(), dtype = int)\n",
    "    for i in range(len(counties)):\n",
    "        counties [i] = (p7.iloc[i]).max() -  (p7.iloc[i]).min()\n",
    "\n",
    "    return counties.idxmax()\n",
    "\n",
    "answer_seven(census_df)"
   ]
  },
  {
   "cell_type": "markdown",
   "metadata": {},
   "source": [
    "### Question 8\n",
    "In this datafile, the United States is broken up into four regions using the \"REGION\" column. \n",
    "\n",
    "Create a query that finds the counties that belong to regions 1 or 2, whose name starts with 'Washington', and whose POPESTIMATE2015 was greater than their POPESTIMATE 2014.\n",
    "\n",
    "*This function should return a 5x2 DataFrame with the columns = ['STNAME', 'CTYNAME'] and the same index ID as the census_df (sorted ascending by index).*"
   ]
  },
  {
   "cell_type": "code",
   "execution_count": 11,
   "metadata": {
    "umich_part_id": "008",
    "umich_partlist_id": "002"
   },
   "outputs": [
    {
     "data": {
      "text/html": [
       "<div>\n",
       "<style scoped>\n",
       "    .dataframe tbody tr th:only-of-type {\n",
       "        vertical-align: middle;\n",
       "    }\n",
       "\n",
       "    .dataframe tbody tr th {\n",
       "        vertical-align: top;\n",
       "    }\n",
       "\n",
       "    .dataframe thead th {\n",
       "        text-align: right;\n",
       "    }\n",
       "</style>\n",
       "<table border=\"1\" class=\"dataframe\">\n",
       "  <thead>\n",
       "    <tr style=\"text-align: right;\">\n",
       "      <th></th>\n",
       "      <th>STNAME</th>\n",
       "      <th>CTYNAME</th>\n",
       "    </tr>\n",
       "  </thead>\n",
       "  <tbody>\n",
       "    <tr>\n",
       "      <th>0</th>\n",
       "      <td>Iowa</td>\n",
       "      <td>Washington County</td>\n",
       "    </tr>\n",
       "    <tr>\n",
       "      <th>1</th>\n",
       "      <td>Minnesota</td>\n",
       "      <td>Washington County</td>\n",
       "    </tr>\n",
       "    <tr>\n",
       "      <th>2</th>\n",
       "      <td>Pennsylvania</td>\n",
       "      <td>Washington County</td>\n",
       "    </tr>\n",
       "    <tr>\n",
       "      <th>3</th>\n",
       "      <td>Rhode Island</td>\n",
       "      <td>Washington County</td>\n",
       "    </tr>\n",
       "    <tr>\n",
       "      <th>4</th>\n",
       "      <td>Wisconsin</td>\n",
       "      <td>Washington County</td>\n",
       "    </tr>\n",
       "  </tbody>\n",
       "</table>\n",
       "</div>"
      ],
      "text/plain": [
       "         STNAME            CTYNAME\n",
       "0          Iowa  Washington County\n",
       "1     Minnesota  Washington County\n",
       "2  Pennsylvania  Washington County\n",
       "3  Rhode Island  Washington County\n",
       "4     Wisconsin  Washington County"
      ]
     },
     "execution_count": 11,
     "metadata": {},
     "output_type": "execute_result"
    }
   ],
   "source": [
    "def answer_eight(a):\n",
    "    p8 = a.reset_index()\n",
    "    p8 = p8[[\"SUMLEV\",\"REGION\",\"COUNTY\", 'POPESTIMATE2010',\n",
    "       'POPESTIMATE2011', 'POPESTIMATE2012', 'POPESTIMATE2013',\n",
    "       'POPESTIMATE2014', 'POPESTIMATE2015', 'STNAME',\"CTYNAME\"]]\n",
    "    p8.set_index(\"CTYNAME\", inplace = True)\n",
    "    Res = pd.DataFrame(columns = ['STNAME', 'CTYNAME'])\n",
    "    j = 0\n",
    "    for i in range(len(p8)):\n",
    "        if (p8.iloc[i][\"REGION\"] == 1 or p8.iloc[i][\"REGION\"] == 2):\n",
    "            if (p8.iloc[i][\"POPESTIMATE2015\"] > p8.iloc[i][\"POPESTIMATE2014\"]):\n",
    "                if ((p8.iloc[i]).name[0:10] == \"Washington\"):\n",
    "                    Res = Res.append({'STNAME' : p8.iloc[i]['STNAME'], 'CTYNAME' : p8.iloc[i].name},  ignore_index=True)\n",
    "                    j += 1\n",
    "    Res.dropna(inplace = True)                    \n",
    "    return Res\n",
    "\n",
    "answer_eight(census_df)"
   ]
  }
 ],
 "metadata": {
  "anaconda-cloud": {},
  "coursera": {
   "course_slug": "python-data-analysis",
   "graded_item_id": "tHmgx",
   "launcher_item_id": "Um6Bz",
   "part_id": "OQsnr"
  },
  "kernelspec": {
   "display_name": "Python 3",
   "language": "python",
   "name": "python3"
  },
  "language_info": {
   "codemirror_mode": {
    "name": "ipython",
    "version": 3
   },
   "file_extension": ".py",
   "mimetype": "text/x-python",
   "name": "python",
   "nbconvert_exporter": "python",
   "pygments_lexer": "ipython3",
   "version": "3.7.6"
  },
  "umich": {
   "id": "Assignment 2",
   "version": "1.2"
  }
 },
 "nbformat": 4,
 "nbformat_minor": 1
}
